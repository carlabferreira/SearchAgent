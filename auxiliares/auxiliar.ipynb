{
 "cells": [
  {
   "cell_type": "markdown",
   "id": "efeec556",
   "metadata": {},
   "source": [
    "# Códigos auxiliar a partir do curso de agentes do HF\n",
    "- Curso disponível em : https://huggingface.co/learn/agents-course"
   ]
  },
  {
   "cell_type": "markdown",
   "id": "7259d078",
   "metadata": {},
   "source": [
    "### Templates\n",
    "- em https://huggingface.co/docs/transformers/main/en/chat_templating?template=Mistral"
   ]
  },
  {
   "cell_type": "markdown",
   "id": "6d694aba",
   "metadata": {},
   "source": []
  },
  {
   "cell_type": "markdown",
   "id": "91e677dd",
   "metadata": {},
   "source": [
    "### Generic Tool implementation\n",
    "- em https://huggingface.co/learn/agents-course/unit1/tools\n",
    "\n",
    "Para transofrmar uma função em python para o texto de descrição de uma ferramenta para o agente"
   ]
  },
  {
   "cell_type": "code",
   "execution_count": 1,
   "id": "dca5140d",
   "metadata": {},
   "outputs": [],
   "source": [
    "from typing import Callable\n",
    "\n",
    "\n",
    "class Tool:\n",
    "    \"\"\"\n",
    "    A class representing a reusable piece of code (Tool).\n",
    "\n",
    "    Attributes:\n",
    "        name (str): Name of the tool.\n",
    "        description (str): A textual description of what the tool does.\n",
    "        func (callable): The function this tool wraps.\n",
    "        arguments (list): A list of argument.\n",
    "        outputs (str or list): The return type(s) of the wrapped function.\n",
    "    \"\"\"\n",
    "    def __init__(self,\n",
    "                 name: str,\n",
    "                 description: str,\n",
    "                 func: Callable,\n",
    "                 arguments: list,\n",
    "                 outputs: str):\n",
    "        self.name = name\n",
    "        self.description = description\n",
    "        self.func = func\n",
    "        self.arguments = arguments\n",
    "        self.outputs = outputs\n",
    "\n",
    "    def to_string(self) -> str:\n",
    "        \"\"\"\n",
    "        Return a string representation of the tool,\n",
    "        including its name, description, arguments, and outputs.\n",
    "        \"\"\"\n",
    "        args_str = \", \".join([\n",
    "            f\"{arg_name}: {arg_type}\" for arg_name, arg_type in self.arguments\n",
    "        ])\n",
    "\n",
    "        return (\n",
    "            f\"Tool Name: {self.name},\"\n",
    "            f\" Description: {self.description},\"\n",
    "            f\" Arguments: {args_str},\"\n",
    "            f\" Outputs: {self.outputs}\"\n",
    "        )\n",
    "\n",
    "    def __call__(self, *args, **kwargs):\n",
    "        \"\"\"\n",
    "        Invoke the underlying function (callable) with provided arguments.\n",
    "        \"\"\"\n",
    "        return self.func(*args, **kwargs)"
   ]
  },
  {
   "cell_type": "markdown",
   "id": "15f9fc3a",
   "metadata": {},
   "source": [
    "decorator code:"
   ]
  },
  {
   "cell_type": "code",
   "execution_count": 2,
   "id": "b8d325c3",
   "metadata": {},
   "outputs": [],
   "source": [
    "import inspect\n",
    "\n",
    "def tool(func):\n",
    "    \"\"\"\n",
    "    A decorator that creates a Tool instance from the given function.\n",
    "    \"\"\"\n",
    "    # Get the function signature\n",
    "    signature = inspect.signature(func)\n",
    "\n",
    "    # Extract (param_name, param_annotation) pairs for inputs\n",
    "    arguments = []\n",
    "    for param in signature.parameters.values():\n",
    "        annotation_name = (\n",
    "            param.annotation.__name__\n",
    "            if hasattr(param.annotation, '__name__')\n",
    "            else str(param.annotation)\n",
    "        )\n",
    "        arguments.append((param.name, annotation_name))\n",
    "\n",
    "    # Determine the return annotation\n",
    "    return_annotation = signature.return_annotation\n",
    "    if return_annotation is inspect._empty:\n",
    "        outputs = \"No return annotation\"\n",
    "    else:\n",
    "        outputs = (\n",
    "            return_annotation.__name__\n",
    "            if hasattr(return_annotation, '__name__')\n",
    "            else str(return_annotation)\n",
    "        )\n",
    "\n",
    "    # Use the function's docstring as the description (default if None)\n",
    "    description = func.__doc__ or \"No description provided.\"\n",
    "\n",
    "    # The function name becomes the Tool name\n",
    "    name = func.__name__\n",
    "\n",
    "    # Return a new Tool instance\n",
    "    return Tool(\n",
    "        name=name,\n",
    "        description=description,\n",
    "        func=func,\n",
    "        arguments=arguments,\n",
    "        outputs=outputs\n",
    "    )"
   ]
  },
  {
   "cell_type": "markdown",
   "id": "3b6880ce",
   "metadata": {},
   "source": [
    "Uso da função:"
   ]
  },
  {
   "cell_type": "code",
   "execution_count": 3,
   "id": "7106fa88",
   "metadata": {},
   "outputs": [
    {
     "name": "stdout",
     "output_type": "stream",
     "text": [
      "Tool Name: calculator, Description: Multiply two integers., Arguments: a: int, b: int, Outputs: int\n"
     ]
    }
   ],
   "source": [
    "@tool\n",
    "def calculator(a: int, b: int) -> int:\n",
    "    \"\"\"Multiply two integers.\"\"\"\n",
    "    return a * b\n",
    "\n",
    "print(calculator.to_string())"
   ]
  },
  {
   "cell_type": "markdown",
   "id": "94e8b92b",
   "metadata": {},
   "source": [
    "Resultado:\n",
    "\n",
    "Tool Name: calculator, Description: Multiply two integers., Arguments: a: int, b: int, Outputs: int"
   ]
  },
  {
   "cell_type": "markdown",
   "id": "3dab08a1",
   "metadata": {},
   "source": [
    "### Importância:  How do AI chat models process user messages internally?\n",
    "- They convert user messages into a formatted prompt by concatenating system, user, and assistant messages"
   ]
  },
  {
   "cell_type": "markdown",
   "id": "d13898bc",
   "metadata": {},
   "source": [
    "### Definição da mensagem do sistema\n",
    "in the System Message we defined :\n",
    "\n",
    "- The Agent’s behavior.\n",
    "- The Tools our Agent has access to, as we described in the previous section.\n",
    "- The Thought-Action-Observation Cycle, that we bake into the LLM instructions."
   ]
  }
 ],
 "metadata": {
  "kernelspec": {
   "display_name": "Python 3",
   "language": "python",
   "name": "python3"
  },
  "language_info": {
   "codemirror_mode": {
    "name": "ipython",
    "version": 3
   },
   "file_extension": ".py",
   "mimetype": "text/x-python",
   "name": "python",
   "nbconvert_exporter": "python",
   "pygments_lexer": "ipython3",
   "version": "3.13.3"
  }
 },
 "nbformat": 4,
 "nbformat_minor": 5
}
